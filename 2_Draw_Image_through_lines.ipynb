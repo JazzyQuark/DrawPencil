{
  "nbformat": 4,
  "nbformat_minor": 0,
  "metadata": {
    "colab": {
      "name": "2 Draw Image through lines.ipynb",
      "provenance": [],
      "authorship_tag": "ABX9TyPBjLOQ/eFvr8OTOW7CyM14",
      "include_colab_link": true
    },
    "kernelspec": {
      "name": "python3",
      "display_name": "Python 3"
    }
  },
  "cells": [
    {
      "cell_type": "markdown",
      "metadata": {
        "id": "view-in-github",
        "colab_type": "text"
      },
      "source": [
        "<a href=\"https://colab.research.google.com/github/JazzyQuark/DrawPencil/blob/main/2_Draw_Image_through_lines.ipynb\" target=\"_parent\"><img src=\"https://colab.research.google.com/assets/colab-badge.svg\" alt=\"Open In Colab\"/></a>"
      ]
    },
    {
      "cell_type": "code",
      "metadata": {
        "colab": {
          "base_uri": "https://localhost:8080/"
        },
        "id": "qwpa1Y_lm9i6",
        "outputId": "21e0f0b1-8765-4db8-81bc-20ae13261abd"
      },
      "source": [
        "!git clone https://github.com/TZYSJTU/Sketch-Generation-with-Drawing-Process-Guided-by-Vector-Flow-and-Grayscale"
      ],
      "execution_count": 1,
      "outputs": [
        {
          "output_type": "stream",
          "text": [
            "Cloning into 'Sketch-Generation-with-Drawing-Process-Guided-by-Vector-Flow-and-Grayscale'...\n",
            "remote: Enumerating objects: 115, done.\u001b[K\n",
            "remote: Counting objects: 100% (115/115), done.\u001b[K\n",
            "remote: Compressing objects: 100% (114/114), done.\u001b[K\n",
            "remote: Total 466 (delta 65), reused 0 (delta 0), pack-reused 351\u001b[K\n",
            "Receiving objects: 100% (466/466), 50.96 MiB | 30.55 MiB/s, done.\n",
            "Resolving deltas: 100% (244/244), done.\n"
          ],
          "name": "stdout"
        }
      ]
    },
    {
      "cell_type": "code",
      "metadata": {
        "colab": {
          "base_uri": "https://localhost:8080/"
        },
        "id": "bqIY4xSjna6a",
        "outputId": "7eee03fc-0cdb-4e95-f0a9-205325ac6902"
      },
      "source": [
        "%cd Sketch-Generation-with-Drawing-Process-Guided-by-Vector-Flow-and-Grayscale"
      ],
      "execution_count": 2,
      "outputs": [
        {
          "output_type": "stream",
          "text": [
            "/content/Sketch-Generation-with-Drawing-Process-Guided-by-Vector-Flow-and-Grayscale\n"
          ],
          "name": "stdout"
        }
      ]
    },
    {
      "cell_type": "code",
      "metadata": {
        "colab": {
          "base_uri": "https://localhost:8080/",
          "height": 35
        },
        "id": "6RBIwnnVnmak",
        "outputId": "fa07373f-4133-42e1-b1da-14ea47369bbe"
      },
      "source": [
        "%pwd"
      ],
      "execution_count": 3,
      "outputs": [
        {
          "output_type": "execute_result",
          "data": {
            "application/vnd.google.colaboratory.intrinsic+json": {
              "type": "string"
            },
            "text/plain": [
              "'/content/Sketch-Generation-with-Drawing-Process-Guided-by-Vector-Flow-and-Grayscale'"
            ]
          },
          "metadata": {
            "tags": []
          },
          "execution_count": 3
        }
      ]
    },
    {
      "cell_type": "code",
      "metadata": {
        "id": "Xhkp_B6pmN4-"
      },
      "source": [
        "# imports for the tutorial\r\n",
        "import os\r\n",
        "import time\r\n",
        "import numpy as np\r\n",
        "import random\r\n",
        "import matplotlib.pyplot as plt\r\n",
        "%matplotlib inline\r\n",
        "\r\n",
        "# pytorch\r\n",
        "import torch\r\n",
        "import torch.nn as nn\r\n",
        "import torch.optim as optim\r\n",
        "from torch.utils.data import Dataset, DataLoader\r\n",
        "import torch.nn.functional as F\r\n",
        "from torchvision.utils import make_grid\r\n",
        "from torchvision.datasets import CIFAR10\r\n",
        "from torchvision import transforms\r\n",
        "import torchvision.utils as vutils"
      ],
      "execution_count": 6,
      "outputs": []
    },
    {
      "cell_type": "code",
      "metadata": {
        "colab": {
          "base_uri": "https://localhost:8080/"
        },
        "id": "rHma65OOoh83",
        "outputId": "a5bf70e4-b2a8-49fd-aa68-4656ab84b7d8"
      },
      "source": [
        "!python cat.py"
      ],
      "execution_count": 7,
      "outputs": [
        {
          "output_type": "stream",
          "text": [
            "cat_up\n",
            "/usr/local/lib/python3.6/dist-packages/torch/nn/functional.py:3063: UserWarning: Default upsampling behavior when mode=bilinear is changed to align_corners=False since 0.4.0. Please specify align_corners=True if the old behavior is desired. See the documentation of nn.Upsample for details.\n",
            "  \"See the documentation of nn.Upsample for details.\".format(mode))\n",
            "ETF done\n",
            "angle: -90.0\n",
            "HistogramEqualization done\n",
            "Quantization done\n",
            "angle: -72.0\n",
            "HistogramEqualization done\n",
            "Quantization done\n",
            "angle: -54.0\n",
            "HistogramEqualization done\n",
            "Quantization done\n",
            "angle: -36.0\n",
            "HistogramEqualization done\n",
            "Quantization done\n",
            "angle: -18.0\n",
            "HistogramEqualization done\n",
            "Quantization done\n",
            "angle: 0.0\n",
            "HistogramEqualization done\n",
            "Quantization done\n",
            "angle: 18.0\n",
            "HistogramEqualization done\n",
            "Quantization done\n",
            "angle: 36.0\n",
            "HistogramEqualization done\n",
            "Quantization done\n",
            "angle: 54.0\n",
            "HistogramEqualization done\n",
            "Quantization done\n",
            "angle: 72.0\n",
            "HistogramEqualization done\n",
            "Quantization done\n",
            "total time 2.0088157653808594\n",
            "stoke number 11584\n",
            ": cannot connect to X server \n"
          ],
          "name": "stdout"
        }
      ]
    }
  ]
}